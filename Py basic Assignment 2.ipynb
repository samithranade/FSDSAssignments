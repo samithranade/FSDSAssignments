{
 "cells": [
  {
   "cell_type": "code",
   "execution_count": null,
   "id": "a964602b",
   "metadata": {},
   "outputs": [],
   "source": [
    "#1.What are the two values of the Boolean data type? How do you write them?\n",
    "Ans: 0, 1 are the two values of boolean data type. 0 and 1 are written as False and True respectively\n",
    "\n",
    "Tea_is_hot = False\n",
    "Tea_is_cold = True"
   ]
  },
  {
   "cell_type": "code",
   "execution_count": null,
   "id": "edca5b9a",
   "metadata": {},
   "outputs": [],
   "source": [
    "#2. What are the three different types of Boolean operators?\n",
    "Ans: AND, OR, and NOT or AND NOT"
   ]
  },
  {
   "cell_type": "code",
   "execution_count": null,
   "id": "e5de85e5",
   "metadata": {},
   "outputs": [],
   "source": [
    "#3. Make a list of each Boolean operator's truth tables (i.e. every possible combination of Boolean values for the operator and what it evaluate ).\n",
    "Ans:\n",
    "AND operator:\n",
    "[(input1, input2, result), (0,0,0), (0,1,0), (1,0,0), (1,1,1)]\n",
    "\n",
    "OR operator:\n",
    "[(input1, input2, result), (0,0,0), (0,1,1), (1,0,1), (1,1,1)]\n",
    "\n",
    "NOT or AND NOT operator:\n",
    "[(input, result), (0,1), (1,0)]"
   ]
  },
  {
   "cell_type": "code",
   "execution_count": null,
   "id": "0cb64abf",
   "metadata": {},
   "outputs": [],
   "source": [
    "#4. What are the values of the following expressions?\n",
    "(5 > 4) and (3 == 5)\n",
    "not (5 > 4)\n",
    "(5 > 4) or (3 == 5) \n",
    "not ((5 > 4) or (3 == 5))\n",
    "(True and True) and (True == False) \n",
    "(not False) or (not True)\n",
    "\n",
    "Ans:\n",
    "(5 > 4) and (3 == 5) : False\n",
    "not (5 > 4) : False\n",
    "(5 > 4) or (3 == 5) : True\n",
    "not ((5 > 4) or (3 == 5)) : False\n",
    "(True and True) and (True == False) : False\n",
    "(not False) or (not True) : True"
   ]
  },
  {
   "cell_type": "code",
   "execution_count": null,
   "id": "e3fda4ed",
   "metadata": {},
   "outputs": [],
   "source": [
    "#5. What are the six comparison operators?\n",
    "Ans: Six comparison operators are ==, !=, <, >, <= and >="
   ]
  },
  {
   "cell_type": "code",
   "execution_count": null,
   "id": "fc4d7032",
   "metadata": {},
   "outputs": [],
   "source": [
    "#6. How do you tell the difference between the equal to and assignment operators?Describe a condition and when you would use one.\n",
    "Ans:\n",
    "Equal to (==) is an comparison or relational operator used to check whether the values on the left and right are equal or not. It returns True if values are equal and other wise False\n",
    "It is to be used to check whether left handside values are equal to right hand side or not\n",
    "Example - 1 == 0, 1 == 1\n",
    "\n",
    "Assignment(=) Opeartor is binary operator, used to assign a value to a variable. It takes value on the right and assigns it to the variable on left.\n",
    "Example - x = 10"
   ]
  },
  {
   "cell_type": "code",
   "execution_count": null,
   "id": "f96b3e80",
   "metadata": {},
   "outputs": [],
   "source": [
    "#7. Identify the three blocks in this code:\n",
    "spam = 0\n",
    "if spam == 10:\n",
    "    print('eggs')\n",
    "if spam > 5:\n",
    "    print('bacon')\n",
    "else:\n",
    "    print('ham')\n",
    "    print('spam')\n",
    "    print('spam')\n",
    "\n",
    "Ans:\n",
    "    Block 1 :\n",
    "if spam == 10:\n",
    "    print('eggs')\n",
    "    \n",
    "    Block 2 :\n",
    "if spam > 5:\n",
    "    print('bacon')\n",
    "    \n",
    "    Block 3:\n",
    "else:\n",
    "    print('ham')\n",
    "    print('spam')\n",
    "    print('spam')"
   ]
  },
  {
   "cell_type": "code",
   "execution_count": null,
   "id": "0b2e710c",
   "metadata": {},
   "outputs": [],
   "source": [
    "#8. Write code that prints Hello if 1 is stored in spam, prints Howdy if 2 is stored in spam, and prints Greetings! if anything else is stored in spam."
   ]
  },
  {
   "cell_type": "code",
   "execution_count": null,
   "id": "99233e29",
   "metadata": {},
   "outputs": [],
   "source": [
    "spam = input()\n",
    "if spam == '1' :\n",
    "    print('Hello')\n",
    "elif spam == '2':\n",
    "    print(\"Howdy\")\n",
    "else:\n",
    "    print('Greetings')"
   ]
  },
  {
   "cell_type": "code",
   "execution_count": null,
   "id": "658ebbf0",
   "metadata": {},
   "outputs": [],
   "source": [
    "#9.If your programme is stuck in an endless loop, what keys you’ll press?\n",
    "Ans: ctrl+c"
   ]
  },
  {
   "cell_type": "code",
   "execution_count": null,
   "id": "c821cee5",
   "metadata": {},
   "outputs": [],
   "source": [
    "#10. How can you tell the difference between break and continue?\n",
    "Ans:\n",
    "    break is used to exit a loop prematurely based on given condition\n",
    "    continue is used to skip the current iteration and move to the next iteration\n",
    "        "
   ]
  },
  {
   "cell_type": "code",
   "execution_count": null,
   "id": "e15f1dd5",
   "metadata": {},
   "outputs": [],
   "source": [
    "#11. In a for loop, what is the difference between range(10), range(0, 10), and range(0, 10, 1)?\n",
    "Ans:\n",
    "    No difference, all are one and the same, represented differently"
   ]
  },
  {
   "cell_type": "code",
   "execution_count": null,
   "id": "78aa921c",
   "metadata": {},
   "outputs": [],
   "source": [
    "#12. Write a short program that prints the numbers 1 to 10 using a for loop. Then write an equivalent program that prints the numbers 1 to 10 using a while loop.\n",
    "Ans:"
   ]
  },
  {
   "cell_type": "code",
   "execution_count": null,
   "id": "0489a707",
   "metadata": {},
   "outputs": [],
   "source": [
    "#For Loop:\n",
    "for i in range(1,11):\n",
    "    print(i)"
   ]
  },
  {
   "cell_type": "code",
   "execution_count": null,
   "id": "bc844f6f",
   "metadata": {},
   "outputs": [],
   "source": [
    "#While loop:\n",
    "i = 1    \n",
    "while i<=10:\n",
    "    print(i)\n",
    "    i+=1"
   ]
  },
  {
   "cell_type": "code",
   "execution_count": null,
   "id": "f683c569",
   "metadata": {},
   "outputs": [],
   "source": [
    "#13. If you had a function named bacon() inside a module named spam, how would you call it after importing spam?\n",
    "Ans: spam.bacon()"
   ]
  }
 ],
 "metadata": {
  "kernelspec": {
   "display_name": "Python 3 (ipykernel)",
   "language": "python",
   "name": "python3"
  },
  "language_info": {
   "codemirror_mode": {
    "name": "ipython",
    "version": 3
   },
   "file_extension": ".py",
   "mimetype": "text/x-python",
   "name": "python",
   "nbconvert_exporter": "python",
   "pygments_lexer": "ipython3",
   "version": "3.8.16"
  }
 },
 "nbformat": 4,
 "nbformat_minor": 5
}
