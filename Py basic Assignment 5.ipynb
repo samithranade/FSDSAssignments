{
 "cells": [
  {
   "cell_type": "markdown",
   "id": "3d5e66f7",
   "metadata": {},
   "source": [
    "Assignement 5"
   ]
  },
  {
   "cell_type": "markdown",
   "id": "6f6f314e",
   "metadata": {},
   "source": [
    "#1. What does an empty dictionary's code look like?\n",
    "    Dict = {}"
   ]
  },
  {
   "cell_type": "markdown",
   "id": "2dd16022",
   "metadata": {},
   "source": [
    "#2. What is the value of a dictionary value with the key 'foo' and the value 42?\n",
    "    Dict = {'foo': 42}\n",
    "    value = Dict['foo'] # Value is 42"
   ]
  },
  {
   "cell_type": "markdown",
   "id": "5c5ed2c7",
   "metadata": {},
   "source": [
    "#3. What is the most significant distinction between a dictionary and a list?\n",
    "    Dictionary uses key value pair to store data and are enclosed within flower braces {}. Here values can be accessed by their key\n",
    "    Lists are ordered collection of values. Values can be accessed by their indices\n",
    "    "
   ]
  },
  {
   "cell_type": "markdown",
   "id": "d758d9c2",
   "metadata": {},
   "source": [
    "#4. What happens if you try to access spam['foo'] if spam is {'bar': 100}?\n",
    "    Will get keyerror since there are no key by 'foo' in dictionary spam."
   ]
  },
  {
   "cell_type": "markdown",
   "id": "faf5373d",
   "metadata": {},
   "source": [
    "#5. If a dictionary is stored in spam, what is the difference between the expressions 'cat' in spam and 'cat' in spam.keys()?\n",
    "    Both are same and used to check presence of key in dictionary. 'cat' in spam checks whether is there any key by 'cat' in spam dictionary."
   ]
  },
  {
   "cell_type": "markdown",
   "id": "5403cec5",
   "metadata": {},
   "source": [
    "#6. If a dictionary is stored in spam, what is the difference between the expressions 'cat' in spam and 'cat' in spam.values()?\n",
    "    'cat' in spam checks is there any key by 'cat' found in spam dictionary. 'cat' in spam.values() checks is there any value in the spam dictionary by value 'cat'"
   ]
  },
  {
   "cell_type": "markdown",
   "id": "c87ad9fb",
   "metadata": {},
   "source": [
    "#7. What is a shortcut for the following code?\n",
    "if 'color' not in spam:\n",
    "    spam['color'] = 'black'\n",
    "\n",
    "Ans:\n",
    "    spam.setdefault('color','black')"
   ]
  },
  {
   "cell_type": "markdown",
   "id": "6d8e893f",
   "metadata": {},
   "source": [
    "#8. How do you \"pretty print\" dictionary values using which module and function?\n",
    "\n",
    "Ans:\n",
    "    pprint is the module and pprint is the function. \n",
    "    pprint.pprint()"
   ]
  }
 ],
 "metadata": {
  "kernelspec": {
   "display_name": "Python 3 (ipykernel)",
   "language": "python",
   "name": "python3"
  },
  "language_info": {
   "codemirror_mode": {
    "name": "ipython",
    "version": 3
   },
   "file_extension": ".py",
   "mimetype": "text/x-python",
   "name": "python",
   "nbconvert_exporter": "python",
   "pygments_lexer": "ipython3",
   "version": "3.8.16"
  }
 },
 "nbformat": 4,
 "nbformat_minor": 5
}
