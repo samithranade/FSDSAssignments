{
 "cells": [
  {
   "cell_type": "markdown",
   "id": "8f190cf1",
   "metadata": {},
   "source": [
    "Assignment 4     "
   ]
  },
  {
   "cell_type": "markdown",
   "id": "f1c48ce5",
   "metadata": {},
   "source": [
    "#1. What exactly is []?\n",
    "    Is an empty list."
   ]
  },
  {
   "cell_type": "markdown",
   "id": "069ab892",
   "metadata": {},
   "source": [
    "#2. In a list of values stored in a variable called spam, how would you assign the value 'hello' as the third value? (Assume [2, 4, 6, 8, 10] are in spam.)\n",
    "spam = [2, 4, 6, 8, 10]\n",
    "spam[2] = 'hello'"
   ]
  },
  {
   "cell_type": "markdown",
   "id": "f6b87399",
   "metadata": {},
   "source": [
    "Let's pretend the spam includes the list ['a', 'b', 'c', 'd'] for the next three queries.\n",
    "\n",
    "#3. What is the value of spam[int(int('3' * 2) / 11)]?\n",
    "    'd'\n",
    "\n",
    "#4. What is the value of spam[-1]?\n",
    "    'd'\n",
    "\n",
    "#5. What is the value of spam[:2]?\n",
    "    ['a', 'b']"
   ]
  },
  {
   "cell_type": "markdown",
   "id": "deb2a82a",
   "metadata": {},
   "source": [
    "Let's pretend bacon has the list [3.14, 'cat', 11, 'cat', True] for the next three questions.\n",
    "\n",
    "#6. What is the value of bacon.index('cat')?\n",
    "    1\n",
    "\n",
    "#7. How does bacon.append(99) change the look of the list value in bacon?\n",
    "    bacon.append(99) adds a new element 99 at the end of the list\n",
    "\n",
    "#8. How does bacon.remove('cat') change the look of the list in bacon?\n",
    "    bacon.remove('cat') removes the element(s) of value 'cat' from the bacon list\n"
   ]
  },
  {
   "cell_type": "markdown",
   "id": "c524f238",
   "metadata": {},
   "source": [
    "#9. What are the list concatenation and list replication operators?\n",
    "    List concatenation operator is + and replication operator is *"
   ]
  },
  {
   "cell_type": "markdown",
   "id": "4f8be80a",
   "metadata": {},
   "source": [
    "#10. What is difference between the list methods append() and insert()?\n",
    "    List append method adds an element to the end of the list. Insert method adds an element to the specified index in the list"
   ]
  },
  {
   "cell_type": "markdown",
   "id": "d45e69a4",
   "metadata": {},
   "source": [
    "#11. What are the two methods for removing items from a list?\n",
    "    remove() and pop() are the two methods for removing item from the list based on value and index respectively"
   ]
  },
  {
   "cell_type": "markdown",
   "id": "4b865282",
   "metadata": {},
   "source": [
    "#12. Describe how list values and string values are identical.\n",
    "    Both list and string are sequences of characters\n",
    "    - List value and string values can be accessed based on its indices, can be sliced and can be iterated over using loops"
   ]
  },
  {
   "cell_type": "markdown",
   "id": "7b31c9d0",
   "metadata": {},
   "source": [
    "#13. What's the difference between tuples and lists?\n",
    "    - Tuples are immutable and lists are mutable\n",
    "    - tuples are enclosed within parenthesis () and lists are enclosed within square brackets [] \n",
    "    - Tuples are faster compared to Lists"
   ]
  },
  {
   "cell_type": "markdown",
   "id": "c1cbe3fd",
   "metadata": {},
   "source": [
    "#14. How do you type a tuple value that only contains the integer 42?\n",
    "    t = (42,)"
   ]
  },
  {
   "cell_type": "markdown",
   "id": "891d9d4f",
   "metadata": {},
   "source": [
    "#15. How do you get a list value's tuple form? How do you get a tuple value's list form?\n",
    "    List = list(Tuple)\n",
    "    Tuple = tuple(List)"
   ]
  },
  {
   "cell_type": "markdown",
   "id": "01742bd8",
   "metadata": {},
   "source": [
    "#16. Variables that \"contain\" list values are not necessarily lists themselves. Instead, what do they contain?\n",
    "    Variables that contain list, do not contain list values directly instead they contain references or pointers to the memory location where the list has been stored. The below example can make us understand this concept."
   ]
  },
  {
   "cell_type": "code",
   "execution_count": 1,
   "id": "65223195",
   "metadata": {},
   "outputs": [
    {
     "data": {
      "text/plain": [
       "[1, 67, 87, 100]"
      ]
     },
     "execution_count": 1,
     "metadata": {},
     "output_type": "execute_result"
    }
   ],
   "source": [
    "#for example\n",
    "list1 = [1,67,87,]\n",
    "list2 = list1\n",
    "list1.append(100)\n",
    "list2"
   ]
  },
  {
   "cell_type": "markdown",
   "id": "16350e3d",
   "metadata": {},
   "source": [
    "#17. How do you distinguish between copy.copy() and copy.deepcopy()?\n",
    "    copy.copy() - It performs shallow copy, creates new object but doesnot create copies of nested object, objects contained within the object.\n",
    "    copy.deepcopy() - It performs deep copy, creates new independent copy of the original object and all objects contained within the object.\n",
    "    From the below example we can understand the concepts much better."
   ]
  },
  {
   "cell_type": "code",
   "execution_count": 2,
   "id": "9b4bce1c",
   "metadata": {},
   "outputs": [
    {
     "name": "stdout",
     "output_type": "stream",
     "text": [
      "[1, 2, 3, 4, [10, 6, 7]]\n",
      "[1, 2, 27, 4, [5, 12, 7]]\n",
      "[1, 8, 3, 4, [10, 6, 7]]\n"
     ]
    }
   ],
   "source": [
    "import copy\n",
    "List = [1,2,3,4,[5,6,7]]\n",
    "shallow = copy.copy(List)\n",
    "deep = copy.deepcopy(List)\n",
    "shallow[1] = 8\n",
    "deep[2] = 27\n",
    "shallow[4][0] = 10 #changes made to nested object\n",
    "deep[4][1] = 12 #changes made to nested object\n",
    "print(List)\n",
    "print(deep)\n",
    "print(shallow)"
   ]
  }
 ],
 "metadata": {
  "kernelspec": {
   "display_name": "Python 3 (ipykernel)",
   "language": "python",
   "name": "python3"
  },
  "language_info": {
   "codemirror_mode": {
    "name": "ipython",
    "version": 3
   },
   "file_extension": ".py",
   "mimetype": "text/x-python",
   "name": "python",
   "nbconvert_exporter": "python",
   "pygments_lexer": "ipython3",
   "version": "3.8.16"
  }
 },
 "nbformat": 4,
 "nbformat_minor": 5
}
