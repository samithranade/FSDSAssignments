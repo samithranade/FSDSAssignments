{
 "cells": [
  {
   "cell_type": "markdown",
   "id": "46848849",
   "metadata": {},
   "source": [
    "Assignment 3"
   ]
  },
  {
   "cell_type": "markdown",
   "id": "878405f3",
   "metadata": {},
   "source": []
  },
  {
   "cell_type": "markdown",
   "id": "990e8491",
   "metadata": {},
   "source": [
    "#1. Why are functions advantageous to have in your programs?\n",
    "    - To avoid writing the same code again and again\n",
    "    - To minimize the number of lines in the program\n",
    "    - Reusability of the functions saves time and effort\n",
    "    - Modularity - Helps the program to devide it into smaller pieces \n",
    "    - Performance - improves the performance of the program\n",
    "    - Security - improves security by shielding actual code"
   ]
  },
  {
   "cell_type": "markdown",
   "id": "6c357b33",
   "metadata": {},
   "source": [
    "#2. When does the code in a function run: when it's specified or when it's called?\n",
    "    Code in the function runs when function is called."
   ]
  },
  {
   "cell_type": "markdown",
   "id": "b95e9d08",
   "metadata": {},
   "source": [
    "#3. What statement creates a function?\n",
    "    def is the statement creates a function followed by function name and set of parenthesis."
   ]
  },
  {
   "cell_type": "markdown",
   "id": "8ca2fa60",
   "metadata": {},
   "source": [
    "#4. What is the difference between a function and a function call?\n",
    "    A function is a block of code that performs a specific task. A function call is an expression that invokes a function and executes the code in the function."
   ]
  },
  {
   "cell_type": "markdown",
   "id": "67e2334e",
   "metadata": {},
   "source": [
    "#5. How many global scopes are there in a Python program? How many local scopes?\n",
    "    There is only one global scope in python program. There can be any number of local scopes."
   ]
  },
  {
   "cell_type": "markdown",
   "id": "e7080f9a",
   "metadata": {},
   "source": [
    "#6. What happens to variables in a local scope when the function call returns?\n",
    "    When function call returns variables in local scope are destroyed and it cannot be called from outside the function"
   ]
  },
  {
   "cell_type": "markdown",
   "id": "f962af0e",
   "metadata": {},
   "source": [
    "#7. What is the concept of a return value? Is it possible to have a return value in an expression?\n",
    "    Return value is the value returned by the function after executing the code in the called function. Its not possible to have return value in an expression. However if the expression is defined inside a function, then return statement can be used to return the value of an expression."
   ]
  },
  {
   "cell_type": "markdown",
   "id": "673ecdaf",
   "metadata": {},
   "source": [
    "#8. If a function does not have a return statement, what is the return value of a call to that function?\n",
    "    If there is no return statement in a function, return value of a call would return None. None represents absence of a value. "
   ]
  },
  {
   "cell_type": "markdown",
   "id": "cbe3bc84",
   "metadata": {},
   "source": [
    "#9. How do you make a function variable refer to the global variable?\n",
    "    By using keyword global, a function variable can be reffered to a global variable. This allows user to access and edit global variable within the function."
   ]
  },
  {
   "cell_type": "markdown",
   "id": "23a4a803",
   "metadata": {},
   "source": [
    "#10. What is the data type of None?\n",
    "    Data type of None is nonetype"
   ]
  },
  {
   "cell_type": "markdown",
   "id": "ab6b731d",
   "metadata": {},
   "source": [
    "#11. What does the sentence import areallyourpetsnamederic do?\n",
    "    The statement import areallyourpetsnamederic, imports the areallyourpetsnamederic module along with its associated functions into current python environment if there exists module by name areallyourpetsnamederic. "
   ]
  },
  {
   "cell_type": "markdown",
   "id": "5f3749fc",
   "metadata": {},
   "source": [
    "#12. If you had a bacon() feature in a spam module, what would you call it after importing spam?\n",
    "    spam.bacon()"
   ]
  },
  {
   "cell_type": "markdown",
   "id": "87374dee",
   "metadata": {},
   "source": [
    "#13. What can you do to save a programme from crashing if it encounters an error?\n",
    "    Use of exception handling technique. By wrinting program in the try clause and except clause, one can catch and handle errors"
   ]
  },
  {
   "cell_type": "markdown",
   "id": "9bac155b",
   "metadata": {},
   "source": [
    "#14. What is the purpose of the try clause? What is the purpose of the except clause?\n",
    "Try clause runs the code as it is and incase of any error, except block captures the error and displays the message in the output without stopping program execution"
   ]
  }
 ],
 "metadata": {
  "kernelspec": {
   "display_name": "Python 3 (ipykernel)",
   "language": "python",
   "name": "python3"
  },
  "language_info": {
   "codemirror_mode": {
    "name": "ipython",
    "version": 3
   },
   "file_extension": ".py",
   "mimetype": "text/x-python",
   "name": "python",
   "nbconvert_exporter": "python",
   "pygments_lexer": "ipython3",
   "version": "3.8.16"
  }
 },
 "nbformat": 4,
 "nbformat_minor": 5
}
