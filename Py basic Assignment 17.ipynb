{
 "cells": [
  {
   "cell_type": "markdown",
   "id": "f3e204d8",
   "metadata": {},
   "source": [
    "#Assignment 17"
   ]
  },
  {
   "cell_type": "markdown",
   "id": "bea6ff8d",
   "metadata": {},
   "source": [
    "##1. Assign the value 7 to the variable guess_me. Then, write the conditional tests (if, else, and elif) to print the string 'too low' if guess_me is less than 7, 'too high' if greater than 7, and 'just right' if equal to 7."
   ]
  },
  {
   "cell_type": "code",
   "execution_count": 83,
   "id": "68e6bbb3",
   "metadata": {},
   "outputs": [
    {
     "name": "stdout",
     "output_type": "stream",
     "text": [
      "Guess me!!\t7\n",
      "just right\n"
     ]
    }
   ],
   "source": [
    "try:\n",
    "    guess_me = int(input(\"Guess me!!\\t\"))\n",
    "    \n",
    "    if guess_me < 7:\n",
    "        print(\"too low\")\n",
    "    elif guess_me>7:\n",
    "        print(\"too high\")\n",
    "    else:\n",
    "        print(\"just right\")\n",
    "except Exception as e:\n",
    "    print('Error :',e)"
   ]
  },
  {
   "cell_type": "markdown",
   "id": "49a0d0ff",
   "metadata": {},
   "source": [
    "##2. Assign the value 7 to the variable guess_me and the value 1 to the variable start. Write a while loop that compares start with guess_me. Print too low if start is less than guess me. If start equals guess_me, print 'found it!' and exit the loop. If start is greater than guess_me, print 'oops' and exit the loop. Increment start at the end of the loop."
   ]
  },
  {
   "cell_type": "code",
   "execution_count": 9,
   "id": "aec903cd",
   "metadata": {},
   "outputs": [
    {
     "name": "stdout",
     "output_type": "stream",
     "text": [
      "too low\n",
      "too low\n",
      "too low\n",
      "too low\n",
      "too low\n",
      "too low\n",
      "found it!\n",
      "oops\n"
     ]
    }
   ],
   "source": [
    "guess_me = 7\n",
    "start = 1\n",
    "while(True):\n",
    "    if start<guess_me:\n",
    "        print('too low')\n",
    "    elif start == guess_me:\n",
    "        print('found it!')\n",
    "    else:\n",
    "        print('oops')\n",
    "        break\n",
    "    start += 1 "
   ]
  },
  {
   "cell_type": "markdown",
   "id": "acb46ea9",
   "metadata": {},
   "source": [
    "##3. Print the following values of the list [3, 2, 1, 0] using a for loop."
   ]
  },
  {
   "cell_type": "code",
   "execution_count": 12,
   "id": "f92c0c11",
   "metadata": {},
   "outputs": [
    {
     "name": "stdout",
     "output_type": "stream",
     "text": [
      "3\n",
      "2\n",
      "1\n",
      "0\n"
     ]
    }
   ],
   "source": [
    "List = [3,2,1,0]\n",
    "for i in List:\n",
    "    print(i)"
   ]
  },
  {
   "cell_type": "markdown",
   "id": "8aeff87d",
   "metadata": {},
   "source": [
    "##4. Use a list comprehension to make a list of the even numbers in range(10)"
   ]
  },
  {
   "cell_type": "code",
   "execution_count": 18,
   "id": "4a4d1edb",
   "metadata": {},
   "outputs": [
    {
     "data": {
      "text/plain": [
       "[0, 2, 4, 6, 8]"
      ]
     },
     "execution_count": 18,
     "metadata": {},
     "output_type": "execute_result"
    }
   ],
   "source": [
    "[i for i in range(0,10,2)]"
   ]
  },
  {
   "cell_type": "code",
   "execution_count": 20,
   "id": "74e17604",
   "metadata": {},
   "outputs": [
    {
     "data": {
      "text/plain": [
       "[0, 2, 4, 6, 8]"
      ]
     },
     "execution_count": 20,
     "metadata": {},
     "output_type": "execute_result"
    }
   ],
   "source": [
    "[i for i in range(10) if i%2==0]"
   ]
  },
  {
   "cell_type": "markdown",
   "id": "46f32be3",
   "metadata": {},
   "source": [
    "##5. Use a dictionary comprehension to create the dictionary squares. Use range(10) to return the keys, and use the square of each key as its value."
   ]
  },
  {
   "cell_type": "code",
   "execution_count": 21,
   "id": "b32fb7eb",
   "metadata": {},
   "outputs": [
    {
     "data": {
      "text/plain": [
       "{0: 0, 1: 1, 2: 4, 3: 9, 4: 16, 5: 25, 6: 36, 7: 49, 8: 64, 9: 81}"
      ]
     },
     "execution_count": 21,
     "metadata": {},
     "output_type": "execute_result"
    }
   ],
   "source": [
    "{key:key**2 for key in range(10)}"
   ]
  },
  {
   "cell_type": "code",
   "execution_count": 23,
   "id": "ea0281b8",
   "metadata": {},
   "outputs": [
    {
     "data": {
      "text/plain": [
       "{0: 0, 1: 1, 2: 4, 3: 9, 4: 16, 5: 25, 6: 36, 7: 49, 8: 64, 9: 81}"
      ]
     },
     "execution_count": 23,
     "metadata": {},
     "output_type": "execute_result"
    }
   ],
   "source": [
    "dict((key,pow(key,2)) for key in range(10))"
   ]
  },
  {
   "cell_type": "markdown",
   "id": "838fed01",
   "metadata": {},
   "source": [
    "##6. Construct the set odd from the odd numbers in the range using a set comprehension (10)."
   ]
  },
  {
   "cell_type": "code",
   "execution_count": 24,
   "id": "c00e93d4",
   "metadata": {},
   "outputs": [
    {
     "data": {
      "text/plain": [
       "{1, 3, 5, 7, 9}"
      ]
     },
     "execution_count": 24,
     "metadata": {},
     "output_type": "execute_result"
    }
   ],
   "source": [
    "{i for i in range(10) if i%2 != 0}"
   ]
  },
  {
   "cell_type": "markdown",
   "id": "23525228",
   "metadata": {},
   "source": [
    "##7. Use a generator comprehension to return the string 'Got ' and a number for the numbers in range(10). Iterate through this by using a for loop."
   ]
  },
  {
   "cell_type": "code",
   "execution_count": 29,
   "id": "63edc98b",
   "metadata": {},
   "outputs": [
    {
     "name": "stdout",
     "output_type": "stream",
     "text": [
      "Got 0, Got 1, Got 2, Got 3, Got 4, Got 5, Got 6, Got 7, Got 8, Got 9, "
     ]
    }
   ],
   "source": [
    "gen = ['Got '+ str(number) for number in range(10)]\n",
    "for i in gen:\n",
    "    print(i, end=', ')"
   ]
  },
  {
   "cell_type": "markdown",
   "id": "ae0014fb",
   "metadata": {},
   "source": [
    "##8. Define a function called good that returns the list ['Harry', 'Ron', 'Hermione']."
   ]
  },
  {
   "cell_type": "code",
   "execution_count": 32,
   "id": "4f94baea",
   "metadata": {},
   "outputs": [
    {
     "data": {
      "text/plain": [
       "['Harry', 'Ron', 'Hermione']"
      ]
     },
     "execution_count": 32,
     "metadata": {},
     "output_type": "execute_result"
    }
   ],
   "source": [
    "def good():\n",
    "    return ['Harry', 'Ron', 'Hermione']\n",
    "good()"
   ]
  },
  {
   "cell_type": "markdown",
   "id": "449d225f",
   "metadata": {},
   "source": [
    "##9. Define a generator function called get_odds that returns the odd numbers from range(10). Use a for loop to find and print the third value returned."
   ]
  },
  {
   "cell_type": "code",
   "execution_count": 57,
   "id": "4aff855f",
   "metadata": {},
   "outputs": [
    {
     "name": "stdout",
     "output_type": "stream",
     "text": [
      "Third value 5\n"
     ]
    }
   ],
   "source": [
    "def get_odds():\n",
    "    return [odd for odd in range(10) if odd%2 != 0]\n",
    "count = 0\n",
    "for i in get_odds():\n",
    "    if count == 2:\n",
    "        print(\"Third value:\", i)\n",
    "        break\n",
    "    count += 1"
   ]
  },
  {
   "cell_type": "markdown",
   "id": "c353155d",
   "metadata": {},
   "source": [
    "##10. Define an exception called OopsException. Raise this exception to see what happens. Then write the code to catch this exception and print 'Caught an oops'."
   ]
  },
  {
   "cell_type": "code",
   "execution_count": 78,
   "id": "24130ea2",
   "metadata": {},
   "outputs": [
    {
     "name": "stdout",
     "output_type": "stream",
     "text": [
      "Caught an oops: Assignment-Raise Exception\n"
     ]
    }
   ],
   "source": [
    "class OopsException(Exception):\n",
    "    pass\n",
    "try:\n",
    "    raise OopsException('Assignment-Raise Exception')\n",
    "except Exception as e:\n",
    "    print('Caught an oops:', e)"
   ]
  },
  {
   "cell_type": "markdown",
   "id": "d3f19957",
   "metadata": {},
   "source": [
    "##11. Use zip() to make a dictionary called movies that pairs these lists: titles = ['Creature of Habit', 'Crewel Fate'] and plots = ['A nun turns into a monster', 'A haunted yarn shop']."
   ]
  },
  {
   "cell_type": "code",
   "execution_count": 39,
   "id": "c78fe70c",
   "metadata": {},
   "outputs": [
    {
     "data": {
      "text/plain": [
       "{'Creature of Habit': 'A nun turns into a monster',\n",
       " 'Crewel Fate': 'A haunted yarn shop'}"
      ]
     },
     "execution_count": 39,
     "metadata": {},
     "output_type": "execute_result"
    }
   ],
   "source": [
    "titles = ['Creature of Habit', 'Crewel Fate']\n",
    "plots = ['A nun turns into a monster', 'A haunted yarn shop']\n",
    "movies = dict(zip(titles,plots))\n",
    "movies"
   ]
  }
 ],
 "metadata": {
  "kernelspec": {
   "display_name": "Python 3 (ipykernel)",
   "language": "python",
   "name": "python3"
  },
  "language_info": {
   "codemirror_mode": {
    "name": "ipython",
    "version": 3
   },
   "file_extension": ".py",
   "mimetype": "text/x-python",
   "name": "python",
   "nbconvert_exporter": "python",
   "pygments_lexer": "ipython3",
   "version": "3.8.16"
  }
 },
 "nbformat": 4,
 "nbformat_minor": 5
}
