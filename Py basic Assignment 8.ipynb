{
 "cells": [
  {
   "cell_type": "markdown",
   "id": "bcd27a94",
   "metadata": {},
   "source": [
    "#Assignment 8\n",
    "pip install PyInputPlus"
   ]
  },
  {
   "cell_type": "markdown",
   "id": "6609386c",
   "metadata": {},
   "source": [
    "#1. Is the Python Standard Library included with PyInputPlus?\n",
    "    No. PyInputPlus is not included in Python standard library."
   ]
  },
  {
   "cell_type": "markdown",
   "id": "01b99f83",
   "metadata": {},
   "source": [
    "#2. Why is PyInputPlus commonly imported with import pyinputplus as pypi?\n",
    "    PyInputPlus commonly imported with import pyinputplus as pypi based on users preference. Using alias pypi is of personal preference."
   ]
  },
  {
   "cell_type": "markdown",
   "id": "470404aa",
   "metadata": {},
   "source": [
    "#3. How do you distinguish between inputInt() and inputFloat()?\n",
    "    The inputInt() function is used when you want to receive and validate user input as an integer (whole number).\n",
    "    The inputFloat() function is used when you want to receive and validate user input as a floating-point number (number with a decimal point)"
   ]
  },
  {
   "cell_type": "markdown",
   "id": "e2cbb3e6",
   "metadata": {},
   "source": [
    "#4. Using PyInputPlus, how do you ensure that the user enters a whole number between 0 and 99?\n",
    "import pyinputplus as pypi\n",
    "pypi.inputInt(prompt=\"Enter whole number between 0 and 99\",min=0,max=99)"
   ]
  },
  {
   "cell_type": "markdown",
   "id": "9958d584",
   "metadata": {},
   "source": [
    "#5. What is transferred to the keyword arguments allowRegexes and blockRegexes?\n",
    "    \n",
    "    In the PyInputPlus library, the keyword arguments allowRegexes accepts a list of regular expressions. If provided, it allows input values that match any of the regular expressions in the list. Input values that do not match any of the provided regular expressions are rejected. But it doesnot work as specified. To be honest, this param doesn't make any sense.\n",
    "    \n",
    "    Keyword arguments blockRegexes parameter blocks specific patterns. Input values must not match any of the specified regular expressions in blockRegexes to be considered valid. If you specify patterns in blockRegexes, any input value matching those patterns will be blocked.\n",
    " \n",
    "In this example allow input values that start with either 'A' or 'B' \n",
    "import pyinputplus\n",
    "pyinputplus.inputStr(prompt=\"Enter a value starting with 'A' or 'B: \", allowRegexes=[r'^[AB].*'], blockRegexes=[r'^[^AB].*'])"
   ]
  },
  {
   "cell_type": "markdown",
   "id": "b3ca4ae9",
   "metadata": {},
   "source": [
    "#6. If a blank input is entered three times, what does inputStr(limit=3) do?\n",
    "    The function will raise exception \"RetryLimitException\"."
   ]
  },
  {
   "cell_type": "markdown",
   "id": "2bb71113",
   "metadata": {},
   "source": [
    "#7. If blank input is entered three times, what does inputStr(limit=3, default='hello') do?\n",
    "    inputStr(limit=3, default='hello') takes the value 'hello' as input when blank input is entered three times"
   ]
  },
  {
   "cell_type": "markdown",
   "id": "66091b0f",
   "metadata": {},
   "source": [
    "help(pypi.parameters)"
   ]
  }
 ],
 "metadata": {
  "kernelspec": {
   "display_name": "Python 3 (ipykernel)",
   "language": "python",
   "name": "python3"
  },
  "language_info": {
   "codemirror_mode": {
    "name": "ipython",
    "version": 3
   },
   "file_extension": ".py",
   "mimetype": "text/x-python",
   "name": "python",
   "nbconvert_exporter": "python",
   "pygments_lexer": "ipython3",
   "version": "3.8.16"
  }
 },
 "nbformat": 4,
 "nbformat_minor": 5
}
