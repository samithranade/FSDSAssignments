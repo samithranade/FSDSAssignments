{
 "cells": [
  {
   "cell_type": "raw",
   "id": "6bf4e809",
   "metadata": {},
   "source": [
    "## 1. In the below elements which of them are values or an expression? eg:- values can be integer or string and expressions will be mathematical operators.\n",
    "*\n",
    "'hello'\n",
    "-87.8\n",
    "-\n",
    "/\n",
    "+\n",
    "6"
   ]
  },
  {
   "cell_type": "markdown",
   "id": "54edcb98",
   "metadata": {},
   "source": [
    "Ans Q1:\n",
    "    Values are 'hello', -87.8, 6\n",
    "    Expressions are *, -, /, +"
   ]
  },
  {
   "cell_type": "markdown",
   "id": "91e040bb",
   "metadata": {},
   "source": [
    "2. What is the difference between string and variable?"
   ]
  },
  {
   "cell_type": "markdown",
   "id": "6f4eb63e",
   "metadata": {},
   "source": [
    "Ans Q2:\n",
    "    > A string is a sequence of characters and can contain letters, numbers, symbols and even spaces. \n",
    "    > Strings are typically enclosed within quotation marks \n",
    "    > Strings are one of the data type used in programming\n",
    "    \n",
    "    > Variables are containers for storing data values. A name given to a memory location used to store different types of data including Strings.\n",
    "    > A variable is created using a assignment statement. When a new value is assigned to a variable old value is lost and cannot be accessible \n",
    "    >"
   ]
  },
  {
   "cell_type": "markdown",
   "id": "e15a6299",
   "metadata": {},
   "source": [
    "3. Describe three different data types."
   ]
  },
  {
   "cell_type": "markdown",
   "id": "d0bb9bb0",
   "metadata": {},
   "source": [
    "Ans:\n",
    "Integer (int):\n",
    "    The integer data type represents whole numbers without fractional parts.\n",
    "    They are typically used for counting, indexing, or representing numerical values in programs\n",
    "\n",
    "String (str):\n",
    "    The string data type represents a sequence of characters.\n",
    "    Strings are often enclosed in quotation marks (either single or double quotes) to distinguish them from other data types.\n",
    "\n",
    "Boolean (bool):\n",
    "    The boolean data type represents a logical value that can be either true or false.\n",
    "    Booleans are used to make logical decisions and control the flow of a program.\n",
    "    They are the result of comparisons or logical operations and are often used in conditional statements and loops."
   ]
  },
  {
   "cell_type": "markdown",
   "id": "b21460d2",
   "metadata": {},
   "source": [
    "4. What is an expression made up of? What do all expressions do?"
   ]
  },
  {
   "cell_type": "markdown",
   "id": "b155eead",
   "metadata": {},
   "source": [
    "Ans:\n",
    "An expression is a combination of values, variables, operators, and function calls that evaluates to a single value. All expression helps in computing and processing data.\n",
    "An expression can be made up of the following elements:\n",
    "    Values: These are literal values such as numbers (e.g., 10, 3.14) or strings (e.g., \"Hello\").\n",
    "    Variables: These are symbols that represent stored values. Variables can be used within expressions to retrieve or manipulate data.\n",
    "    Operators: These are special symbols or keywords that perform operations on values or variables. Python provides various types of operators, including arithmetic operators (+, -, *, /), comparison operators (==, !=, <, >), logical operators (and, or, not), and more.\n",
    "    Function calls: Expressions can involve function calls, where you invoke a function and pass arguments to it. Functions can manipulate data, perform computations, or return values that become part of the expression."
   ]
  },
  {
   "cell_type": "markdown",
   "id": "94929fae",
   "metadata": {},
   "source": [
    "5. This assignment statements, like spam = 10. What is the difference between an expression and a statement?"
   ]
  },
  {
   "cell_type": "markdown",
   "id": "cec56235",
   "metadata": {},
   "source": [
    "Ans:\n",
    "An expression is a combination of variables, operators, and values that evaluates to a single value. A statement is a unit of code that performs an action, such as assigning a value to a variable, printing a value, or calling a function."
   ]
  },
  {
   "cell_type": "markdown",
   "id": "824eb043",
   "metadata": {},
   "source": [
    "6. After running the following code, what does the variable bacon contain?\n",
    "bacon = 22\n",
    "bacon + 1"
   ]
  },
  {
   "cell_type": "markdown",
   "id": "e6ef41b7",
   "metadata": {},
   "source": [
    "Ans:\n",
    "22"
   ]
  },
  {
   "cell_type": "markdown",
   "id": "7090607c",
   "metadata": {},
   "source": [
    "7. What should the values of the following two terms be?\n",
    "'spam' + 'spamspam'\n",
    "'spam' * 3"
   ]
  },
  {
   "cell_type": "markdown",
   "id": "59d339a1",
   "metadata": {},
   "source": [
    "Ans:\n",
    "'spamspamspam'"
   ]
  },
  {
   "cell_type": "markdown",
   "id": "6e18a8b9",
   "metadata": {},
   "source": [
    "8. Why is eggs a valid variable name while 100 is invalid?"
   ]
  },
  {
   "cell_type": "markdown",
   "id": "713832d2",
   "metadata": {},
   "source": [
    "Ans:\n",
    "Variable names need to follow certain rules and conventions. Variable names must begin with a letter (a-z, A-Z) or an underscore (_) character not digit or special character. Hence 100 is invalid variable name"
   ]
  },
  {
   "cell_type": "markdown",
   "id": "652022e8",
   "metadata": {},
   "source": [
    "9. What three functions can be used to get the integer, floating-point number, or string version of a value?"
   ]
  },
  {
   "cell_type": "markdown",
   "id": "2f985ac7",
   "metadata": {},
   "source": [
    "Ans:\n",
    "For Integer int(), for floating point number float(), and for string str() can be used to respective version of the value. "
   ]
  },
  {
   "cell_type": "markdown",
   "id": "2099f774",
   "metadata": {},
   "source": [
    "10. Why does this expression cause an error? How can you fix it?\n",
    "'I have eaten ' + 99 + ' burritos.'"
   ]
  },
  {
   "cell_type": "markdown",
   "id": "6e981933",
   "metadata": {},
   "source": [
    "Ans:\n",
    "Error is caused because here we are trying to concatenate 2 string data types with a int data type.\n",
    "By placing 99 within qoutes(single or double), we can fix this issue. "
   ]
  },
  {
   "cell_type": "markdown",
   "id": "32c1628b",
   "metadata": {},
   "source": [
    "'I have eaten ' + '99' + ' burritos.'"
   ]
  },
  {
   "cell_type": "markdown",
   "id": "956cd9e9",
   "metadata": {},
   "source": []
  }
 ],
 "metadata": {
  "kernelspec": {
   "display_name": "Python 3 (ipykernel)",
   "language": "python",
   "name": "python3"
  },
  "language_info": {
   "codemirror_mode": {
    "name": "ipython",
    "version": 3
   },
   "file_extension": ".py",
   "mimetype": "text/x-python",
   "name": "python",
   "nbconvert_exporter": "python",
   "pygments_lexer": "ipython3",
   "version": "3.8.16"
  }
 },
 "nbformat": 4,
 "nbformat_minor": 5
}
