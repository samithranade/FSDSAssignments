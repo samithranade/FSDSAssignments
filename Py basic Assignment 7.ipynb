{
 "cells": [
  {
   "cell_type": "markdown",
   "id": "6553f716",
   "metadata": {},
   "source": [
    "#Assignment 7 "
   ]
  },
  {
   "cell_type": "markdown",
   "id": "e18b003d",
   "metadata": {},
   "source": [
    "##1. What is the name of the feature responsible for generating Regex objects?\n",
    "    Feature responsible for generating Regex objects is re module. re stands for regular expression"
   ]
  },
  {
   "cell_type": "markdown",
   "id": "5481f5ce",
   "metadata": {},
   "source": [
    "##2. Why do raw strings often appear in Regex objects?\n",
    "    Raw strings allow user to specify regular expression patterns that may contain backslashes without having to escape them"
   ]
  },
  {
   "cell_type": "markdown",
   "id": "359d30fc",
   "metadata": {},
   "source": [
    "##3. What is the return value of the search() method?\n",
    "    The search() method is used to search for a pattern in a string, returns a match object if a match is found, and None if no match is found."
   ]
  },
  {
   "cell_type": "markdown",
   "id": "d33ee4e6",
   "metadata": {},
   "source": [
    "##4. From a Match item, how do you get the actual strings that match the pattern?\n",
    "    By match.group() method, one can get actual string that match the pattern. Example:"
   ]
  },
  {
   "cell_type": "code",
   "execution_count": 8,
   "id": "92b35a3c",
   "metadata": {},
   "outputs": [
    {
     "name": "stdout",
     "output_type": "stream",
     "text": [
      "Match found: basic \n"
     ]
    }
   ],
   "source": [
    "import re\n",
    "\n",
    "text = \"Python basic Assignment\"\n",
    "pattern = r\"basic \"\n",
    "# Using search() to find the pattern\n",
    "match = re.search(pattern, text)\n",
    "if match:\n",
    "    print(\"Match found:\", match.group())  # match.group() returns the matched text\n",
    "else:\n",
    "    print(\"No match found\")"
   ]
  },
  {
   "cell_type": "markdown",
   "id": "dc878073",
   "metadata": {},
   "source": [
    "##5. In the regex which created from the r'(\\d\\d\\d)-(\\d\\d\\d-\\d\\d\\d\\d)', what does group zero cover? Group 2? Group 1?\n",
    "    In regular expression created from the r'(\\d\\d\\d)-(\\d\\d\\d-\\d\\d\\d\\d)', Group 0 covers entire matched string, Group 2 covers matched string in second set of parenthesis ie. (\\d\\d\\d-\\d\\d\\d\\d). Group 1 covers values in the first pair of parenthesis ie. (\\d\\d\\d)"
   ]
  },
  {
   "cell_type": "code",
   "execution_count": 61,
   "id": "1c3b2090",
   "metadata": {},
   "outputs": [
    {
     "name": "stdout",
     "output_type": "stream",
     "text": [
      "Group 0: 080-823-9838\n",
      "Group 1: 080\n",
      "Group 2: 823-9838\n",
      "('080', '823-9838')\n",
      "080-823-9838\n",
      "080\n",
      "823-9838\n"
     ]
    }
   ],
   "source": [
    "import re\n",
    "\n",
    "regex = re.compile(r'(\\d\\d\\d)-(\\d\\d\\d-\\d\\d\\d\\d)')\n",
    "\n",
    "match = regex.match('080-823-9838')  # Find all matches in the text\n",
    "\n",
    "print(\"Group 0:\", match[0])\n",
    "print(\"Group 1:\", match[1])\n",
    "print(\"Group 2:\", match[2])\n",
    "print(match.groups())\n",
    "print(match.group(0))\n",
    "print(match.group(1))\n",
    "print(match.group(2))\n"
   ]
  },
  {
   "cell_type": "markdown",
   "id": "993d6de3",
   "metadata": {},
   "source": [
    "##6. In standard expression syntax, parentheses and intervals have distinct meanings. How can you tell a regex that you want it to fit real parentheses and periods?\n",
    "    To tell a regex that you want it to fit real parentheses and periods, you need to escape them with a backslash '\\'.\n",
    "For example:\n",
    "To match a literal left parenthesis (, use \\(.\n",
    "To match a literal right parenthesis ), use \\).\n",
    "To match a literal period ., use \\.."
   ]
  },
  {
   "cell_type": "markdown",
   "id": "2fbe0903",
   "metadata": {},
   "source": [
    "##7. The findall() method returns a string list or a list of string tuples. What causes it to return one of the two options?\n",
    "    The result depends on the number of capturing groups in the pattern. If there are no groups, return a list of strings matching the whole pattern. If there is exactly one group, return a list of strings matching that group. If multiple groups are present, return a list of tuples of strings matching the groups. Non-capturing groups do not affect the form of the result."
   ]
  },
  {
   "cell_type": "code",
   "execution_count": 15,
   "id": "d300100f",
   "metadata": {},
   "outputs": [
    {
     "name": "stdout",
     "output_type": "stream",
     "text": [
      "['foot', 'fell', 'fastest']\n",
      "['set', 'width', '20']\n",
      "[('width', '20'), ('height', '10')]\n"
     ]
    }
   ],
   "source": [
    "# for example\n",
    "# No group\n",
    "print(re.findall(r'\\bf[a-z]*', 'which foot or hand fell fastest'))\n",
    "# One group\n",
    "print(re.findall(r'(\\w+)', 'set width=20  '))\n",
    "# More than one group\n",
    "print(re.findall(r'(\\w+)=(\\d+)', 'set width=20 and height=10'))"
   ]
  },
  {
   "cell_type": "markdown",
   "id": "1a65ad50",
   "metadata": {},
   "source": [
    "##8. In standard expressions, what does the ? character mean?\n",
    "    | represents logical or operator"
   ]
  },
  {
   "cell_type": "markdown",
   "id": "0ce875e5",
   "metadata": {},
   "source": [
    "##9. In regular expressions, what does the | character stand for? (Character is not mentioned in the question)\n",
    "        In regular expressions, the | character means or. It is used to combine two or more regular expressions, and the result of the combined regular expression is true if any of the subexpressions are true."
   ]
  },
  {
   "cell_type": "code",
   "execution_count": 33,
   "id": "ecc196a9",
   "metadata": {},
   "outputs": [
    {
     "data": {
      "text/plain": [
       "<re.Match object; span=(43, 54), match='hello world'>"
      ]
     },
     "execution_count": 33,
     "metadata": {},
     "output_type": "execute_result"
    }
   ],
   "source": [
    "match = re.search(r\"(hello\\s(world|there))\", \"This is a string that contains the phrase 'hello world'.\")\n",
    "match"
   ]
  },
  {
   "cell_type": "markdown",
   "id": "0e43ad65",
   "metadata": {},
   "source": [
    "##10. In regular expressions, what is the difference between the + and * characters?\n",
    "    The difference between the + and * characters in regular expressions is that the + character matches one or more occurrences of the preceding character, while the * character matches zero or more occurrences of the preceding character."
   ]
  },
  {
   "cell_type": "code",
   "execution_count": 126,
   "id": "85066ac4",
   "metadata": {},
   "outputs": [
    {
     "name": "stdout",
     "output_type": "stream",
     "text": [
      "* <re.Match object; span=(2, 6), match='Mens'>\n",
      "+ None\n"
     ]
    }
   ],
   "source": [
    "import re\n",
    "match = re.search(r\"(Wo)*Mens\",\"W Mens Cricket World Cup\")\n",
    "print('*',match)\n",
    "match = re.search(r\"(Wo)+Mens\",\"Mens Cricket World Cup\")\n",
    "print('+', match)"
   ]
  },
  {
   "cell_type": "markdown",
   "id": "62ac7b4c",
   "metadata": {},
   "source": [
    "##11. What is the difference between {4} and {4,5} in regular expression?\n",
    "    In regular expressions, {4} and {4,5} are quantifiers that specify the number of times the preceding character or group can occur.\n",
    "        -{4} matches exactly 4 occurrences of the preceding character or group.\n",
    "        -{4,5} matches 4 to 5 occurrences of the preceding character or group."
   ]
  },
  {
   "cell_type": "code",
   "execution_count": 86,
   "id": "5f8811b9",
   "metadata": {},
   "outputs": [
    {
     "name": "stdout",
     "output_type": "stream",
     "text": [
      "1101\n",
      "11011\n"
     ]
    }
   ],
   "source": [
    "import re \n",
    "match = re.search(r\"\\d{4}\", 'string pattern 11013')\n",
    "print(match.group())\n",
    "match = re.search(r\"\\d{4,5}\", 'string pattern 11011')\n",
    "print(match.group())\n"
   ]
  },
  {
   "cell_type": "markdown",
   "id": "aefb82fb",
   "metadata": {},
   "source": [
    "##12. What do you mean by the \\d, \\w, and \\s shorthand character classes signify in regular expressions?\n",
    "    The shorthand character classes \\d, \\w, and \\s in regular expressions signify the following:\n",
    "\\d matches any digit (0-9).\n",
    "\\w matches any word character (a-zA-Z0-9_).\n",
    "\\s matches any whitespace character (space, tab, newline, etc.)."
   ]
  },
  {
   "cell_type": "markdown",
   "id": "6c794413",
   "metadata": {},
   "source": [
    "##13. What do means by \\D, \\W, and \\S shorthand character classes signify in regular expressions?\n",
    "    The negated shorthand character classes \\D, \\W, and \\S in regular expressions signify the following:\n",
    "\\D matches any non-digit character (which is the opposite of \\d).\n",
    "\\W matches any non-word character (which is the opposite of \\w).\n",
    "\\S matches any non-whitespace character (which is the opposite of \\s)."
   ]
  },
  {
   "cell_type": "markdown",
   "id": "dcc4a6d1",
   "metadata": {},
   "source": [
    "##14. What is the difference between .*? and .*?\n",
    "    .*? - A lazy quantifier matches the minimum number of occurrences of the preceding character or group.\n",
    "    .* - A greedy quantifier matches the maximum number of occurrences of the preceding character or group."
   ]
  },
  {
   "cell_type": "code",
   "execution_count": 107,
   "id": "4a228a47",
   "metadata": {},
   "outputs": [
    {
     "name": "stdout",
     "output_type": "stream",
     "text": [
      "Greedy - '.*': ab1cbaaba\n",
      "Lazy - '.*?': ab1cba\n"
     ]
    }
   ],
   "source": [
    "#Example \n",
    "import re\n",
    "match = re.search('a.*ba', 'ab1cbaaba345bsa')\n",
    "print(\"Greedy - '.*':\",match.group())\n",
    "\n",
    "import re\n",
    "match = re.search('a.*?ba', 'ab1cbaaba345bsa')\n",
    "print(\"Lazy - '.*?':\",match.group())"
   ]
  },
  {
   "cell_type": "markdown",
   "id": "324a106e",
   "metadata": {},
   "source": [
    "##15. What is the syntax for matching both numbers and lowercase letters with a character class?\n",
    "    [a-z0-9] or [0-9a-z] is the syntax for matching both numbers and lowercase letters with a character class"
   ]
  },
  {
   "cell_type": "code",
   "execution_count": 133,
   "id": "b9506a8b",
   "metadata": {},
   "outputs": [
    {
     "name": "stdout",
     "output_type": "stream",
     "text": [
      "<re.Match object; span=(0, 30), match='asdfghjklqwertyuiopzxcvbnmkkel'>\n"
     ]
    },
    {
     "data": {
      "text/plain": [
       "<re.Match object; span=(0, 5), match='kkelw'>"
      ]
     },
     "execution_count": 133,
     "metadata": {},
     "output_type": "execute_result"
    }
   ],
   "source": [
    "##example\n",
    "import re\n",
    "m = re.match('[0-9a-z]+', \"asdfghjklqwertyuiopzxcvbnmkkelKw97889\")\n",
    "print(m)\n",
    "\n",
    "match = re.match(r'[a-z0-9]', \"kkelwH97889\")\n",
    "match"
   ]
  },
  {
   "cell_type": "markdown",
   "id": "2cb4078e",
   "metadata": {},
   "source": [
    "##16. What is the procedure for making a normal expression in regax case insensitive?\n",
    "    Use of re.IGNORECASE as flag makes normal expression in regax case insensitive"
   ]
  },
  {
   "cell_type": "code",
   "execution_count": 138,
   "id": "b3c1e900",
   "metadata": {},
   "outputs": [
    {
     "data": {
      "text/plain": [
       "'AjdhssHHJSK998'"
      ]
     },
     "execution_count": 138,
     "metadata": {},
     "output_type": "execute_result"
    }
   ],
   "source": [
    "import re\n",
    "match = re.match('[a-z0-9]+', \"AjdhssHHJSK998\", flags=re.IGNORECASE)\n",
    "match.group()"
   ]
  },
  {
   "cell_type": "markdown",
   "id": "8c5b5a2f",
   "metadata": {},
   "source": [
    "##17. What does the . character normally match? What does it match if re.DOTALL is passed as 2nd argument in re.compile()?\n",
    "    In regular expressions, the . (dot) character normally matches any character except a newline (\\n). When re.DOTALL flag is passed, character will match any character, including newline characters."
   ]
  },
  {
   "cell_type": "code",
   "execution_count": 155,
   "id": "aa9bf120",
   "metadata": {},
   "outputs": [
    {
     "name": "stdout",
     "output_type": "stream",
     "text": [
      "AjdhssH#`\n",
      "Passing re.DOTALL AjdhssH#`\n",
      "HJSK998\n"
     ]
    }
   ],
   "source": [
    "import re\n",
    "match = re.match('.*', \"AjdhssH#`\\nHJSK998\")\n",
    "print(match.group())\n",
    "match = re.match('.*', \"AjdhssH#`\\nHJSK998\", re.DOTALL)\n",
    "print(\"Passing re.DOTALL\",match.group())"
   ]
  },
  {
   "cell_type": "markdown",
   "id": "bfaa0926",
   "metadata": {},
   "source": [
    "##18. If numReg = re.compile(r'\\d+'), what will numRegex.sub('X', '11 drummers, 10 pipers, five rings, 4 hen') return?\n",
    "    Numerical value in the given string shall be replaced by X"
   ]
  },
  {
   "cell_type": "code",
   "execution_count": 142,
   "id": "194e7e8f",
   "metadata": {},
   "outputs": [
    {
     "data": {
      "text/plain": [
       "'X drummers, X pipers, five rings, X hen'"
      ]
     },
     "execution_count": 142,
     "metadata": {},
     "output_type": "execute_result"
    }
   ],
   "source": [
    " re.compile(r'\\d+').sub('X', '11 drummers, 10 pipers, five rings, 4 hen')"
   ]
  },
  {
   "cell_type": "markdown",
   "id": "736bd1b8",
   "metadata": {},
   "source": [
    "##19. What does passing re.VERBOSE as the 2nd argument to re.compile() allow to do?\n",
    "    Passing re.VERBOSE as the second argument to re.compile() allows you to write more readable and organized regular expressions. It enables \"verbose\" mode for your regex, which means you can include comments and whitespace to make the regex more human-friendly without affecting its functionality."
   ]
  },
  {
   "cell_type": "code",
   "execution_count": 162,
   "id": "09747546",
   "metadata": {},
   "outputs": [
    {
     "name": "stdout",
     "output_type": "stream",
     "text": [
      "What does passing re.VERBOSE as the 2nd argument to re.compile() allow to do\n",
      "Passing re.VERBOSE : you can include comments and whitespace\n"
     ]
    }
   ],
   "source": [
    "import re\n",
    "match = re.match('.*', \"What does passing re.VERBOSE as the 2nd argument to re.compile() allow to do\")\n",
    "print(match.group())\n",
    "match = re.match('''.* # TEST Verbose feature''', \"you can include comments and whitespace\", re.VERBOSE)\n",
    "print(\"Passing re.VERBOSE :\",match.group())"
   ]
  },
  {
   "cell_type": "markdown",
   "id": "62b1461c",
   "metadata": {},
   "source": [
    "##20. How would you write a regex that match a number with comma for every three digits? It must match the given following:\n",
    "'42'\n",
    "'1,234'\n",
    "'6,368,745'\n",
    "but not the following:\n",
    "'12,34,567' (which has only two digits between the commas)\n",
    "'1234' (which lacks commas)"
   ]
  },
  {
   "cell_type": "code",
   "execution_count": 191,
   "id": "fec38951",
   "metadata": {},
   "outputs": [
    {
     "name": "stdout",
     "output_type": "stream",
     "text": [
      "<re.Match object; span=(0, 9), match='1,254,273'>\n"
     ]
    }
   ],
   "source": [
    "import re \n",
    "match = re.search(r'^[1-9]\\d{0,2}(,\\d{3})*$','1,254,273')\n",
    "match"
   ]
  },
  {
   "cell_type": "markdown",
   "id": "44c442fb",
   "metadata": {},
   "source": [
    "##21. How would you write a regex that matches the full name of someone whose last name is Watanabe? You can assume that the first name that comes before it will always be one word that begins with a capital letter. The regex must match the following:\n",
    "'Haruto Watanabe'\n",
    "'Alice Watanabe'\n",
    "'RoboCop Watanabe'\n",
    "but not the following:\n",
    "'haruto Watanabe' (where the first name is not capitalized)\n",
    "'Mr. Watanabe' (where the preceding word has a nonletter character)\n",
    "'Watanabe' (which has no first name)\n",
    "'Haruto watanabe' (where Watanabe is not capitalized)"
   ]
  },
  {
   "cell_type": "code",
   "execution_count": 196,
   "id": "6e572d4f",
   "metadata": {},
   "outputs": [
    {
     "data": {
      "text/plain": [
       "<re.Match object; span=(0, 16), match='RoboCop Watanabe'>"
      ]
     },
     "execution_count": 196,
     "metadata": {},
     "output_type": "execute_result"
    }
   ],
   "source": [
    "import re\n",
    "match = re.match(r'^[A-Z][a-zA-Z]*\\sWatanabe$','RoboCop Watanabe')\n",
    "match"
   ]
  },
  {
   "cell_type": "markdown",
   "id": "97d015ab",
   "metadata": {},
   "source": [
    "##22. How would you write a regex that matches a sentence where the first word is either Alice, Bob, or Carol; the second word is either eats, pets, or throws; the third word is apples, cats, or baseballs; and the sentence ends with a period? This regex should be case-insensitive. It must match the following:\n",
    "'Alice eats apples.'\n",
    "'Bob pets cats.'\n",
    "'Carol throws baseballs.'\n",
    "'Alice throws Apples.'\n",
    "'BOB EATS CATS.'\n",
    "but not the following:\n",
    "'RoboCop eats apples.'\n",
    "'ALICE THROWS FOOTBALLS.'\n",
    "'Carol eats 7 cats.'"
   ]
  },
  {
   "cell_type": "code",
   "execution_count": 203,
   "id": "36ec9e05",
   "metadata": {},
   "outputs": [
    {
     "name": "stdout",
     "output_type": "stream",
     "text": [
      "<re.Match object; span=(0, 14), match='BOB EATS CATS.'>\n"
     ]
    }
   ],
   "source": [
    "import re\n",
    "match = re.match(r'^(Alice|Bob|Carol)\\s(eats|pets|throws)\\s(apples|cats|baseballs)\\.$', 'BOB EATS CATS.',re.IGNORECASE)\n",
    "print(match)"
   ]
  },
  {
   "cell_type": "code",
   "execution_count": null,
   "id": "148f2498",
   "metadata": {},
   "outputs": [],
   "source": []
  }
 ],
 "metadata": {
  "kernelspec": {
   "display_name": "Python 3 (ipykernel)",
   "language": "python",
   "name": "python3"
  },
  "language_info": {
   "codemirror_mode": {
    "name": "ipython",
    "version": 3
   },
   "file_extension": ".py",
   "mimetype": "text/x-python",
   "name": "python",
   "nbconvert_exporter": "python",
   "pygments_lexer": "ipython3",
   "version": "3.8.16"
  }
 },
 "nbformat": 4,
 "nbformat_minor": 5
}
