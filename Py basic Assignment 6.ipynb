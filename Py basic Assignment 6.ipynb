{
 "cells": [
  {
   "cell_type": "markdown",
   "id": "d45d72c6",
   "metadata": {},
   "source": [
    "#Assignment 6"
   ]
  },
  {
   "cell_type": "markdown",
   "id": "3ced495b",
   "metadata": {},
   "source": [
    "#1. What are escape characters, and how do you use them?\n",
    "    Special characters preceded by a backslash(\\) are used change the interpretation of characters"
   ]
  },
  {
   "cell_type": "markdown",
   "id": "f8b2b26e",
   "metadata": {},
   "source": [
    "### Newline (\\n): It represents a line break, moving the cursor to the beginning of the next line.\n",
    "text = \"Hello,\\nWorld!\"\n",
    "print(text)"
   ]
  },
  {
   "cell_type": "markdown",
   "id": "fc7f952b",
   "metadata": {},
   "source": [
    "### Tab (\\t): It represents a horizontal tab, creating an indentation.\n",
    "text = \"Indented:\\tText\"\n",
    "print(text)"
   ]
  },
  {
   "cell_type": "markdown",
   "id": "f54cb28e",
   "metadata": {},
   "source": [
    "### Backslash (\\\\): It represents a literal backslash character.\n",
    "path = \"C:\\\\Users\\\\Username\\\\Documents\"\n",
    "print(path)"
   ]
  },
  {
   "cell_type": "markdown",
   "id": "5133633e",
   "metadata": {},
   "source": [
    "### Single Quote (\\') and Double Quote (\\\"): They are used to include single or double quotes within a string.\n",
    "text1 = 'He said, \\'Hello!\\''\n",
    "text2 = \"She said, \\\"Hi!\\\"\"\n",
    "print(text1)\n",
    "print(text2)"
   ]
  },
  {
   "cell_type": "markdown",
   "id": "360787b1",
   "metadata": {},
   "source": [
    "### Backspace (\\b): It represents the backspace control character, which moves the cursor back one position.\n",
    "text = \"Erasing text\\b\"\n",
    "print(text)"
   ]
  },
  {
   "cell_type": "markdown",
   "id": "ce6f72f5",
   "metadata": {},
   "source": [
    "### Carriage Return (\\r): It represents a carriage return, moving the cursor to the beginning of the current line.\n",
    "text = \"Overwriting:\\rNew Text\"\n",
    "print(text)"
   ]
  },
  {
   "cell_type": "markdown",
   "id": "1332434f",
   "metadata": {},
   "source": [
    "### Null Character (\\0): It represents the null character, which is used to terminate strings in C-style strings.\n",
    "text = \"Null\\0Character\"\n",
    "print(text)"
   ]
  },
  {
   "cell_type": "markdown",
   "id": "25d792aa",
   "metadata": {},
   "source": [
    "#2. What do the escape characters n and t stand for?\n",
    "    n - stands for New Line\n",
    "    t - stands for tab"
   ]
  },
  {
   "cell_type": "markdown",
   "id": "5e11e272",
   "metadata": {},
   "source": [
    "#3. What is the way to include backslash characters in a string?\n",
    "    Double backslash '\\\\'"
   ]
  },
  {
   "cell_type": "markdown",
   "id": "61e3f868",
   "metadata": {},
   "source": [
    "#4. The string \"Howl's Moving Castle\" is a correct value. Why isn't the single quote character in the word Howl's not escaped a problem?\n",
    "    Since single quote within double quotes doesnot cause any issue."
   ]
  },
  {
   "cell_type": "markdown",
   "id": "d5d45e89",
   "metadata": {},
   "source": [
    "#5. How do you write a string of newlines if you don't want to use the n character?\n",
    "    Same results can be acheived by placing strings withing triple single qoutes or triple double quotes"
   ]
  },
  {
   "cell_type": "markdown",
   "id": "60ed5765",
   "metadata": {},
   "source": [
    "#6. What are the values of the given expressions?\n",
    "'Hello, world!'[1]\n",
    "e\n",
    "'Hello, world!'[0:5]\n",
    "Hello\n",
    "'Hello, world!'[:5]\n",
    "Hello\n",
    "'Hello, world!'[3:]\n",
    "lo, world!"
   ]
  },
  {
   "cell_type": "markdown",
   "id": "eac69238",
   "metadata": {},
   "source": [
    "#7. What are the values of the following expressions?\n",
    "'Hello'.upper()\n",
    "HELLO\n",
    "'Hello'.upper().isupper()\n",
    "True\n",
    "'Hello'.upper().lower()\n",
    "False\n"
   ]
  },
  {
   "cell_type": "markdown",
   "id": "0bcc5455",
   "metadata": {},
   "source": [
    "#8. What are the values of the following expressions?\n",
    "'Remember, remember, the fifth of July.'.split()\n",
    "\n",
    "Ans:\n",
    "    ['Remember,', 'remember,', 'the', 'fifth', 'of', 'July.']"
   ]
  },
  {
   "cell_type": "markdown",
   "id": "dc2a823c",
   "metadata": {},
   "source": [
    "'-'.join('There can only one.'.split())\n",
    "\n",
    "Ans:\n",
    "    There-can-only-one."
   ]
  },
  {
   "cell_type": "markdown",
   "id": "d737cc9f",
   "metadata": {},
   "source": [
    "#9. What are the methods for right-justifying, left-justifying, and centering a string?\n",
    "    Let s be the string, then\n",
    "    right-justified method - s.rjust()\n",
    "    left-justified method - s.ljust()\n",
    "    centering - s.center()"
   ]
  },
  {
   "cell_type": "markdown",
   "id": "9d913f6c",
   "metadata": {},
   "source": [
    "#10. What is the best way to remove whitespace characters from the start or end?\n",
    "    Use method strip() to remove whitespaces from the start and end of string"
   ]
  }
 ],
 "metadata": {
  "kernelspec": {
   "display_name": "Python 3 (ipykernel)",
   "language": "python",
   "name": "python3"
  },
  "language_info": {
   "codemirror_mode": {
    "name": "ipython",
    "version": 3
   },
   "file_extension": ".py",
   "mimetype": "text/x-python",
   "name": "python",
   "nbconvert_exporter": "python",
   "pygments_lexer": "ipython3",
   "version": "3.8.16"
  }
 },
 "nbformat": 4,
 "nbformat_minor": 5
}
