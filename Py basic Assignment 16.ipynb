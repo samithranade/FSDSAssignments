{
 "cells": [
  {
   "cell_type": "markdown",
   "id": "1228b28b",
   "metadata": {},
   "source": [
    "#Assignment 16"
   ]
  },
  {
   "cell_type": "markdown",
   "id": "eafdae7e",
   "metadata": {},
   "source": [
    "##1. Create a list called years_list, starting with the year of your birth, and each year thereafter until the year of your fifth birthday. For example, if you were born in 1980. the list would be years_list = [1980, 1981, 1982, 1983, 1984, 1985]."
   ]
  },
  {
   "cell_type": "code",
   "execution_count": 14,
   "id": "4b3f0f53",
   "metadata": {},
   "outputs": [
    {
     "name": "stdout",
     "output_type": "stream",
     "text": [
      "Enter your year of birth:\t2000\n"
     ]
    },
    {
     "data": {
      "text/plain": [
       "[2000, 2001, 2002, 2003, 2004, 2005]"
      ]
     },
     "execution_count": 14,
     "metadata": {},
     "output_type": "execute_result"
    }
   ],
   "source": [
    "import pyinputplus as pyip\n",
    "\n",
    "birthYear = pyip.inputInt(prompt= \"Enter your year of birth:\\t\", min = 1923, max= 2023)\n",
    "year_list = [i for i in range(birthYear,birthYear+6)]\n",
    "year_list"
   ]
  },
  {
   "cell_type": "markdown",
   "id": "193b77bb",
   "metadata": {},
   "source": [
    "##2. In which year in years_list was your third birthday? Remember, you were 0 years of age for your first year."
   ]
  },
  {
   "cell_type": "code",
   "execution_count": 5,
   "id": "8f784192",
   "metadata": {},
   "outputs": [
    {
     "name": "stdout",
     "output_type": "stream",
     "text": [
      "My third birthday was in the year:\t 2003\n"
     ]
    }
   ],
   "source": [
    "print(\"My third birthday was in the year:\\t\",year_list[3])"
   ]
  },
  {
   "cell_type": "markdown",
   "id": "10dd8dc1",
   "metadata": {},
   "source": [
    "##3.In the years list, which year were you the oldest?"
   ]
  },
  {
   "cell_type": "code",
   "execution_count": 9,
   "id": "9a1ccfae",
   "metadata": {},
   "outputs": [
    {
     "name": "stdout",
     "output_type": "stream",
     "text": [
      "My oldest year were:  2005\n"
     ]
    }
   ],
   "source": [
    "print(\"My oldest year were: \", year_list[-1])"
   ]
  },
  {
   "cell_type": "markdown",
   "id": "5dca6f01",
   "metadata": {},
   "source": [
    "##4. Make a list called things with these three strings as elements: \"mozzarella\", \"cinderella\", \"salmonella\"."
   ]
  },
  {
   "cell_type": "code",
   "execution_count": 11,
   "id": "a7fc4058",
   "metadata": {},
   "outputs": [],
   "source": [
    "things = [\"mozzarella\", \"cinderella\", \"salmonella\"]"
   ]
  },
  {
   "cell_type": "markdown",
   "id": "74620bc2",
   "metadata": {},
   "source": [
    "##5. Capitalize the element in things that refers to a person and then print the list. Did it change the element in the list?"
   ]
  },
  {
   "cell_type": "code",
   "execution_count": 21,
   "id": "eec5ebd3",
   "metadata": {},
   "outputs": [
    {
     "name": "stdout",
     "output_type": "stream",
     "text": [
      "Mozzarella\n",
      "Cinderella\n",
      "Salmonella\n"
     ]
    },
    {
     "data": {
      "text/plain": [
       "['mozzarella', 'cinderella', 'salmonella']"
      ]
     },
     "execution_count": 21,
     "metadata": {},
     "output_type": "execute_result"
    }
   ],
   "source": [
    "for i in things:\n",
    "    print(i.capitalize())\n",
    "things\n",
    "\n",
    "#No, dint change element in the list"
   ]
  },
  {
   "cell_type": "markdown",
   "id": "c1acc427",
   "metadata": {},
   "source": [
    "##6. Make a surprise list with the elements \"Groucho,\" \"Chico,\" and \"Harpo.\""
   ]
  },
  {
   "cell_type": "code",
   "execution_count": 25,
   "id": "361a67e2",
   "metadata": {},
   "outputs": [
    {
     "data": {
      "text/plain": [
       "['Groucho', 'Chico', 'Harpo']"
      ]
     },
     "execution_count": 25,
     "metadata": {},
     "output_type": "execute_result"
    }
   ],
   "source": [
    "surprise = list((\"Groucho\", \"Chico\", \"Harpo\"))\n",
    "surprise"
   ]
  },
  {
   "cell_type": "markdown",
   "id": "35ce4fe0",
   "metadata": {},
   "source": [
    "##7. Lowercase the last element of the surprise list, reverse it, and then capitalize it."
   ]
  },
  {
   "cell_type": "code",
   "execution_count": 32,
   "id": "29e99232",
   "metadata": {},
   "outputs": [
    {
     "data": {
      "text/plain": [
       "'Oprah'"
      ]
     },
     "execution_count": 32,
     "metadata": {},
     "output_type": "execute_result"
    }
   ],
   "source": [
    "surprise[-1].lower()[::-1].capitalize()"
   ]
  },
  {
   "cell_type": "markdown",
   "id": "03c596d5",
   "metadata": {},
   "source": [
    "##8. Make an English-to-French dictionary called e2f and print it. Here are your starter words: dog is chien, cat is chat, and walrus is morse."
   ]
  },
  {
   "cell_type": "code",
   "execution_count": 34,
   "id": "0964c5ab",
   "metadata": {},
   "outputs": [
    {
     "data": {
      "text/plain": [
       "{'dog': 'chien', 'cat': 'chat', 'walrus': 'morse'}"
      ]
     },
     "execution_count": 34,
     "metadata": {},
     "output_type": "execute_result"
    }
   ],
   "source": [
    "e2f = {\n",
    "    \"dog\" : \"chien\",\n",
    "    \"cat\" : \"chat\",\n",
    "    \"walrus\" : \"morse\"\n",
    "}\n",
    "e2f"
   ]
  },
  {
   "cell_type": "markdown",
   "id": "ec9aa039",
   "metadata": {},
   "source": [
    "##9. Write the French word for walrus in your three-word dictionary e2f."
   ]
  },
  {
   "cell_type": "code",
   "execution_count": 36,
   "id": "4ad8b564",
   "metadata": {},
   "outputs": [
    {
     "data": {
      "text/plain": [
       "'morse'"
      ]
     },
     "execution_count": 36,
     "metadata": {},
     "output_type": "execute_result"
    }
   ],
   "source": [
    "e2f[\"walrus\"]"
   ]
  },
  {
   "cell_type": "markdown",
   "id": "a461cab9",
   "metadata": {},
   "source": [
    "##10. Make a French-to-English dictionary called f2e from e2f. Use the items method."
   ]
  },
  {
   "cell_type": "code",
   "execution_count": 41,
   "id": "e9971323",
   "metadata": {},
   "outputs": [
    {
     "data": {
      "text/plain": [
       "{'chien': 'dog', 'chat': 'cat', 'morse': 'walrus'}"
      ]
     },
     "execution_count": 41,
     "metadata": {},
     "output_type": "execute_result"
    }
   ],
   "source": [
    "f2e = {value: key for key,value in e2f.items()}\n",
    "f2e"
   ]
  },
  {
   "cell_type": "markdown",
   "id": "8118172a",
   "metadata": {},
   "source": [
    "##11. Print the English version of the French word chien using f2e."
   ]
  },
  {
   "cell_type": "code",
   "execution_count": 43,
   "id": "72797b81",
   "metadata": {},
   "outputs": [
    {
     "data": {
      "text/plain": [
       "'dog'"
      ]
     },
     "execution_count": 43,
     "metadata": {},
     "output_type": "execute_result"
    }
   ],
   "source": [
    "f2e[\"chien\"]"
   ]
  },
  {
   "cell_type": "markdown",
   "id": "e96b9773",
   "metadata": {},
   "source": [
    "##12. Make and print a set of English words from the keys in e2f."
   ]
  },
  {
   "cell_type": "code",
   "execution_count": 50,
   "id": "369f502b",
   "metadata": {},
   "outputs": [
    {
     "data": {
      "text/plain": [
       "dict_keys(['dog', 'cat', 'walrus'])"
      ]
     },
     "execution_count": 50,
     "metadata": {},
     "output_type": "execute_result"
    }
   ],
   "source": [
    "e2f.keys()"
   ]
  },
  {
   "cell_type": "raw",
   "id": "c8c4c3b6",
   "metadata": {},
   "source": [
    "##13. Make a multilevel dictionary called life. Use these strings for the topmost keys: 'animals', 'plants', and 'other'. Make the 'animals' key refer to another dictionary with the keys 'cats', 'octopi', and 'emus'. Make the 'cats' key refer to a list of strings with the values 'Henri', 'Grumpy', and 'Lucy'. Make all the other keys refer to empty dictionaries."
   ]
  },
  {
   "cell_type": "code",
   "execution_count": 52,
   "id": "11ae6c84",
   "metadata": {},
   "outputs": [],
   "source": [
    "life ={\n",
    "    'animals' : {\n",
    "        'cats':['Henri', 'Grumpy', 'Lucy'],\n",
    "        'octopi':{},\n",
    "        'emus':{}\n",
    "    },\n",
    "    'plants':{},\n",
    "    'other':{}\n",
    "}"
   ]
  },
  {
   "cell_type": "markdown",
   "id": "6bd37075",
   "metadata": {},
   "source": [
    "##14. Print the top-level keys of life."
   ]
  },
  {
   "cell_type": "code",
   "execution_count": 53,
   "id": "2d86623e",
   "metadata": {},
   "outputs": [
    {
     "data": {
      "text/plain": [
       "dict_keys(['animals', 'plants', 'other'])"
      ]
     },
     "execution_count": 53,
     "metadata": {},
     "output_type": "execute_result"
    }
   ],
   "source": [
    "life.keys()"
   ]
  },
  {
   "cell_type": "markdown",
   "id": "4c0349ec",
   "metadata": {},
   "source": [
    "##15. Print the keys for life['animals']."
   ]
  },
  {
   "cell_type": "code",
   "execution_count": 54,
   "id": "f63e501f",
   "metadata": {},
   "outputs": [
    {
     "data": {
      "text/plain": [
       "dict_keys(['cats', 'octopi', 'emus'])"
      ]
     },
     "execution_count": 54,
     "metadata": {},
     "output_type": "execute_result"
    }
   ],
   "source": [
    "life['animals'].keys()"
   ]
  },
  {
   "cell_type": "markdown",
   "id": "48ef1fde",
   "metadata": {},
   "source": [
    "##16. Print the values for life['animals']['cats']"
   ]
  },
  {
   "cell_type": "code",
   "execution_count": 57,
   "id": "167edf99",
   "metadata": {},
   "outputs": [
    {
     "data": {
      "text/plain": [
       "['Henri', 'Grumpy', 'Lucy']"
      ]
     },
     "execution_count": 57,
     "metadata": {},
     "output_type": "execute_result"
    }
   ],
   "source": [
    "life['animals']['cats']"
   ]
  },
  {
   "cell_type": "code",
   "execution_count": null,
   "id": "511a6222",
   "metadata": {},
   "outputs": [],
   "source": []
  }
 ],
 "metadata": {
  "kernelspec": {
   "display_name": "Python 3 (ipykernel)",
   "language": "python",
   "name": "python3"
  },
  "language_info": {
   "codemirror_mode": {
    "name": "ipython",
    "version": 3
   },
   "file_extension": ".py",
   "mimetype": "text/x-python",
   "name": "python",
   "nbconvert_exporter": "python",
   "pygments_lexer": "ipython3",
   "version": "3.8.16"
  }
 },
 "nbformat": 4,
 "nbformat_minor": 5
}
