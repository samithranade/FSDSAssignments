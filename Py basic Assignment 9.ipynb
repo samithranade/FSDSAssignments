{
 "cells": [
  {
   "cell_type": "markdown",
   "id": "430cc04f",
   "metadata": {},
   "source": [
    "#Assignment 9"
   ]
  },
  {
   "cell_type": "markdown",
   "id": "cddef11d",
   "metadata": {},
   "source": [
    "##1. To what does a relative path refer?\n",
    "    A relative path refers to the location of a file or directory in relation to the current working directory. Relative paths are context-dependent, meaning they depend on where you are currently in the file system. They provide a way to specify locations without using the complete absolute path from the root directory."
   ]
  },
  {
   "cell_type": "markdown",
   "id": "9eb1c4dd",
   "metadata": {},
   "source": [
    "##2. What does an absolute path start with your operating system?\n",
    "    An absolute path on most operating systems starts with the root directory of the file system. The root directory is the top-level directory that serves as the starting point for the complete file system hierarchy. "
   ]
  },
  {
   "cell_type": "markdown",
   "id": "c1671f95",
   "metadata": {},
   "source": [
    "##3. What do the functions os.getcwd() and os.chdir() do?\n",
    "    os.getcwd() is the function used to get the current working directory as string.\n",
    "    os.chdir() is the function used to cahnge the current working drectory to desired path"
   ]
  },
  {
   "cell_type": "code",
   "execution_count": null,
   "id": "03a9bf77",
   "metadata": {},
   "outputs": [],
   "source": [
    "import os\n",
    "print(\"Current working directory:\", os.getcwd())\n",
    "\n",
    "directory = 'C:\\\\Users\\\\Desktop\\\\Python Worksheets\\\\FSDS\\\\Basic Assignments' #Should be valid directory\n",
    "os.chdir(directory)"
   ]
  },
  {
   "cell_type": "markdown",
   "id": "43509f31",
   "metadata": {},
   "source": [
    "##4. What are the . and .. folders?\n",
    "    . (Dot):\n",
    "    The . (dot) represents the current directory. It is used to refer to the directory you are currently in.\n",
    "For example, if you are in the directory \"/home/user/documents\", the path \"./file.txt\" refers to the file \"file.txt\" in the current directory.\n",
    "    .. (Dot-Dot):\n",
    "    The .. represents the parent directory. It is used to refer to the directory one level up in the directory hierarchy. For example, if you are in the directory \"/home/user/documents\", the path \"..images/image.png\" refers to the file \"image.png\" in the \"/home/user/images\" directory(equivalent to \"/home/user/images/image.png\""
   ]
  },
  {
   "cell_type": "markdown",
   "id": "33026337",
   "metadata": {},
   "source": [
    "##5. In C:\\bacon\\eggs\\spam.txt, which part is the dir name, and which part is the base name?\n",
    "    In 'C:\\bacon\\eggs\\spam.txt', which part is the dir name 'C:\\bacon\\eggs', and which part is the base name 'spam.txt'?"
   ]
  },
  {
   "cell_type": "markdown",
   "id": "92de271c",
   "metadata": {},
   "source": [
    "##6. What are the three “mode” arguments that can be passed to the open() function?\n",
    "    The “mode” arguments that can be passed to the open() function.\n",
    "    'r'       open for reading (default)\n",
    "    'w'       open for writing, truncating the file first\n",
    "    'r+'      open a file for both reading and writing\n",
    "    'x'       create a new file and open it for writing\n",
    "    'a'       open for writing, appending to the end of the file if it exists\n",
    "    'b'       binary mode\n",
    "    't'       text mode (default)\n",
    "    '+'       open a disk file for updating (reading and writing)\n",
    "    'U'       universal newline mode (deprecated)"
   ]
  },
  {
   "cell_type": "markdown",
   "id": "71229de0",
   "metadata": {},
   "source": [
    "##7. What happens if an existing file is opened in write mode?\n",
    "    If the file already exists, opening it in write mode will truncate (clear) its content, effectively erasing the previous data. The file will become empty."
   ]
  },
  {
   "cell_type": "markdown",
   "id": "7d128d76",
   "metadata": {},
   "source": [
    "##8. How do you tell the difference between read() and readlines()?\n",
    "    The read() method reads the entire content of the file as a single string. It reads from the current position of the file cursor to the end of the file or to a specified number of characters (if an argument is provided).\n",
    "    The readlines() method reads the lines of the file one by one and returns them as a list of strings. Each element in the list corresponds to a line in the file, including the newline character at the end of each line."
   ]
  },
  {
   "cell_type": "markdown",
   "id": "93b123d0",
   "metadata": {},
   "source": [
    "##9. What data structure does a shelf value resemble?\n",
    "    The shelve module is used for persistent storage of Python objects, such as dictionaries, lists, and other data structures. A \"shelf\" in Python is similar in concept to a dictionary. It resembles a dictionary because it allows you to store and retrieve data using key-value pairs. In fact, a shelf is often described as a \"persistent dictionary."
   ]
  }
 ],
 "metadata": {
  "kernelspec": {
   "display_name": "Python 3 (ipykernel)",
   "language": "python",
   "name": "python3"
  },
  "language_info": {
   "codemirror_mode": {
    "name": "ipython",
    "version": 3
   },
   "file_extension": ".py",
   "mimetype": "text/x-python",
   "name": "python",
   "nbconvert_exporter": "python",
   "pygments_lexer": "ipython3",
   "version": "3.8.16"
  }
 },
 "nbformat": 4,
 "nbformat_minor": 5
}
